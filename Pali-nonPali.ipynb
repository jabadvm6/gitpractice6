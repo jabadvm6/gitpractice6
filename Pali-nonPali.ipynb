{
 "cells": [
  {
   "cell_type": "code",
   "execution_count": 1,
   "metadata": {},
   "outputs": [],
   "source": [
    "words = ['stacked','bored' ,'kayak', 'deified',\n",
    " 'rotator' ,'repaper', 'deed', 'peep' ,'wow' ,'noon',\n",
    " 'fried', 'turkeys', 'batton', 'tiger','lions', 'bears']"
   ]
  },
  {
   "cell_type": "code",
   "execution_count": 13,
   "metadata": {},
   "outputs": [
    {
     "name": "stdout",
     "output_type": "stream",
     "text": [
      "{'nonpalindrones': ['stacked', 'bored', 'fried', 'turkeys', 'batton', 'tiger', 'lions', 'bears'], 'palindrones': ['kayak', 'deified', 'rotator', 'repaper', 'deed', 'peep', 'wow', 'noon']}\n"
     ]
    }
   ],
   "source": [
    "Dict_words={'nonpalindrones':[], 'palindrones':[]}\n",
    "for word in words:\n",
    "    if word == word[::-1]:\n",
    "        Dict_words['palindrones'].append(word) \n",
    "    else:\n",
    "        Dict_words['nonpalindrones'].append(word)\n",
    "print(Dict_words)"
   ]
  },
  {
   "cell_type": "code",
   "execution_count": null,
   "metadata": {},
   "outputs": [],
   "source": []
  }
 ],
 "metadata": {
  "kernelspec": {
   "display_name": "Python (learn-env)",
   "language": "python",
   "name": "learn-env"
  },
  "language_info": {
   "codemirror_mode": {
    "name": "ipython",
    "version": 3
   },
   "file_extension": ".py",
   "mimetype": "text/x-python",
   "name": "python",
   "nbconvert_exporter": "python",
   "pygments_lexer": "ipython3",
   "version": "3.8.5"
  }
 },
 "nbformat": 4,
 "nbformat_minor": 4
}
